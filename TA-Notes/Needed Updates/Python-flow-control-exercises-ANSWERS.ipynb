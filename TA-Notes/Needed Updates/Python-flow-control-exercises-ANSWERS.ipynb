{
 "cells": [
  {
   "cell_type": "markdown",
   "metadata": {},
   "source": [
    "# Python flow control exercise\n",
    "\n",
    "\n",
    "### 1. Using a for loop write a block of Python code so that your output looks like:\n",
    "![Exercise 1](https://github.com/AdamRKlima/TA-Notes-and-Needed-Updates/blob/main/Images/IMG1FlowControl.png?raw=true)"
   ]
  },
  {
   "cell_type": "code",
   "execution_count": 12,
   "metadata": {},
   "outputs": [
    {
     "name": "stdout",
     "output_type": "stream",
     "text": [
      "1\n",
      "2\n",
      "3\n",
      "4\n",
      "5\n",
      "6\n",
      "7\n",
      "8\n",
      "9\n",
      "10\n"
     ]
    }
   ],
   "source": [
    "for num in range(1,11):\n",
    "    print(num)"
   ]
  },
  {
   "cell_type": "markdown",
   "metadata": {},
   "source": []
  },
  {
   "cell_type": "markdown",
   "metadata": {},
   "source": [
    "### 2. Using a while loop, try getting the same results"
   ]
  },
  {
   "cell_type": "code",
   "execution_count": 13,
   "metadata": {},
   "outputs": [
    {
     "name": "stdout",
     "output_type": "stream",
     "text": [
      "1\n",
      "2\n",
      "3\n",
      "4\n",
      "5\n",
      "6\n",
      "7\n",
      "8\n",
      "9\n",
      "10\n"
     ]
    }
   ],
   "source": [
    "num=1\n",
    "while num <= 10:\n",
    "    print(num)\n",
    "    num=num+1"
   ]
  },
  {
   "cell_type": "markdown",
   "metadata": {},
   "source": [
    "### 3. Using a for statement and a nested if statement, create a block of code that shows the numbers that are divisible by 4. For this use the range from 1-100"
   ]
  },
  {
   "cell_type": "code",
   "execution_count": 14,
   "metadata": {},
   "outputs": [
    {
     "name": "stdout",
     "output_type": "stream",
     "text": [
      "4\n",
      "8\n",
      "12\n",
      "16\n",
      "20\n",
      "24\n",
      "28\n",
      "32\n",
      "36\n",
      "40\n",
      "44\n",
      "48\n",
      "52\n",
      "56\n",
      "60\n",
      "64\n",
      "68\n",
      "72\n",
      "76\n",
      "80\n",
      "84\n",
      "88\n",
      "92\n",
      "96\n",
      "100\n",
      "From 1-100, these are the numbers that are divisible by 4\n"
     ]
    }
   ],
   "source": [
    "for num in range(1,101):\n",
    "    if num % 4 == 0:\n",
    "        print(num)\n",
    "    elif num % 4 != 0:\n",
    "        continue\n",
    "print(\"From 1-100, these are the numbers that are divisible by 4\")\n"
   ]
  },
  {
   "cell_type": "markdown",
   "metadata": {},
   "source": [
    "### 4. Using the string \"Python is pretty awesome. I can't wait to LEARN more\", print each vowel by using a for and nested if statement"
   ]
  },
  {
   "cell_type": "code",
   "execution_count": 16,
   "metadata": {},
   "outputs": [
    {
     "name": "stdout",
     "output_type": "stream",
     "text": [
      "o\n",
      "i\n",
      "e\n",
      "a\n",
      "e\n",
      "o\n",
      "e\n",
      "I\n",
      "a\n",
      "a\n",
      "i\n",
      "o\n",
      "E\n",
      "A\n",
      "o\n",
      "e\n"
     ]
    }
   ],
   "source": [
    "tst=\"Python is pretty awesome. I can't wait to LEARN more\"\n",
    "vowels={'a','e','i','o','u','A','E','I','O','U'}\n",
    "for letters in tst:\n",
    "    if letters in vowels:\n",
    "        print(letters)\n",
    "    else:\n",
    "        continue"
   ]
  },
  {
   "cell_type": "markdown",
   "metadata": {},
   "source": [
    "### 5. using the following, print out all combinations of cars and colors\n",
    "### cars = ['Corvette', 'Camaro', 'Mustang', 'Viper', 'Charger']\n",
    "### colors = ['Ruby Red', 'Python Green', 'Java Brown', 'C++ Yellow', 'Full Stack Rainbow','Savvy Coders Blue']"
   ]
  },
  {
   "cell_type": "code",
   "execution_count": 20,
   "metadata": {},
   "outputs": [
    {
     "name": "stdout",
     "output_type": "stream",
     "text": [
      "Corvette Java Brown\n",
      "Corvette Savvy Coders Blue\n",
      "Corvette C++ Yellow\n",
      "Corvette Full Stack Rainbow\n",
      "Corvette Python Green\n",
      "Corvette Ruby Red\n",
      "Camaro Java Brown\n",
      "Camaro Savvy Coders Blue\n",
      "Camaro C++ Yellow\n",
      "Camaro Full Stack Rainbow\n",
      "Camaro Python Green\n",
      "Camaro Ruby Red\n",
      "Mustang Java Brown\n",
      "Mustang Savvy Coders Blue\n",
      "Mustang C++ Yellow\n",
      "Mustang Full Stack Rainbow\n",
      "Mustang Python Green\n",
      "Mustang Ruby Red\n",
      "Viper Java Brown\n",
      "Viper Savvy Coders Blue\n",
      "Viper C++ Yellow\n",
      "Viper Full Stack Rainbow\n",
      "Viper Python Green\n",
      "Viper Ruby Red\n",
      "Charger Java Brown\n",
      "Charger Savvy Coders Blue\n",
      "Charger C++ Yellow\n",
      "Charger Full Stack Rainbow\n",
      "Charger Python Green\n",
      "Charger Ruby Red\n"
     ]
    }
   ],
   "source": [
    "cars = ['Corvette', 'Camaro', 'Mustang', 'Viper', 'Charger']\n",
    "colors = {'Ruby Red', 'Python Green', 'Java Brown', 'C++ Yellow', 'Full Stack Rainbow','Savvy Coders Blue'}\n",
    "\n",
    "for car in cars:\n",
    "    for color in colors:\n",
    "        print(car,color)"
   ]
  },
  {
   "cell_type": "markdown",
   "metadata": {},
   "source": [
    "### 6. What is the first step in using a module?"
   ]
  },
  {
   "cell_type": "markdown",
   "metadata": {},
   "source": [
    "##### Importing It"
   ]
  },
  {
   "cell_type": "markdown",
   "metadata": {},
   "source": [
    "### 7 Write a block of code that does the following\n",
    "### - Asks for the users year of birth\n",
    "### - Returns: \"Your body really hurts\" for users born before 1980,\"Your back hurts\" for users born between the start of 1980 and the end 0f 1989, \"Your back is starting to hurt\" for users born between the beginning of 1990 and the end of 1999, and \"Take care of your body so it doesn't hurt\" for all users born after the start of 2000"
   ]
  },
  {
   "cell_type": "code",
   "execution_count": null,
   "metadata": {},
   "outputs": [],
   "source": []
  }
 ],
 "metadata": {
  "kernelspec": {
   "display_name": "Python 3",
   "language": "python",
   "name": "python3"
  },
  "language_info": {
   "codemirror_mode": {
    "name": "ipython",
    "version": 3
   },
   "file_extension": ".py",
   "mimetype": "text/x-python",
   "name": "python",
   "nbconvert_exporter": "python",
   "pygments_lexer": "ipython3",
   "version": "3.11.3"
  },
  "orig_nbformat": 4
 },
 "nbformat": 4,
 "nbformat_minor": 2
}
