{
 "cells": [
  {
   "cell_type": "code",
   "execution_count": 2,
   "metadata": {},
   "outputs": [],
   "source": [
    "import pandas as pd\n",
    "import requests\n",
    "from bs4 import BeautifulSoup as soup\n",
    "\n",
    "#Set up connection to website\n",
    "url = \"http://www.usa.com/rank/us--average-temperature--state-rank.htm\"\n",
    "data = requests.get(url).text\n",
    "#Parse through your data\n",
    "temps=soup(data, \"html.parser\")\n",
    "#Find the first tag\n",
    "table=temps.find_all('table')\n",
    "table=temps.find('table',width='648')\n",
    "#set up empty list\n",
    "rank=[]\n",
    "AverageTemp=[]\n",
    "StatePopulation=[]\n",
    "#create a for loop to add data to lists\n",
    "for row in table.find_all('tr'):\n",
    "    columns= row.find_all('td')\n",
    "    # print(columns)#error check\n",
    "    rank.append(columns[0].text.strip())\n",
    "    AverageTemp.append(columns[1].text.strip())\n",
    "    StatePopulation.append(columns[2].text.strip())\n",
    "r=pd.DataFrame(rank)\n",
    "a=pd.DataFrame(AverageTemp)\n",
    "s=pd.DataFrame(StatePopulation)\n",
    "\n",
    "df=pd.concat([r,a,s],axis=1)\n",
    "# print(df) #error check\n",
    "df.columns=df.iloc[0]\n",
    "df=df.drop([0])\n",
    "# print(df) #Error check\n",
    "\n",
    "#sort data\n",
    "df=df.sort_values(by=['State / Population'])\n",
    "\n",
    "#df #Error Check\n",
    "\n",
    "#export to csv\n",
    "df.to_csv('AvgTempByState.csv')\n"
   ]
  },
  {
   "cell_type": "code",
   "execution_count": null,
   "metadata": {},
   "outputs": [],
   "source": [
    "import pandas as pd\n",
    "import requests\n",
    "from bs4 import BeautifulSoup as soup\n",
    "\n",
    "open('EVRegistrations.xlsx')\n",
    "file1=pd.read_excel('EVRegistrations.xlsx')\n",
    "file1=file1.sort_values(by=['State'])\n",
    "file1=file1.drop(file1.index[44:45])\n",
    "file1=file1.drop('Unnamed: 7',axis=1)\n",
    "file1=file1.drop('Unnamed: 8',axis=1)\n",
    "file1=file1.drop('Unnamed: 9',axis=1)\n",
    "file1=file1.drop('Unnamed: 10',axis=1)\n",
    "file1=file1.drop('Unnamed: 11',axis=1)\n",
    "print(file1)\n",
    "file1.to_csv(\"evreg.csv\")"
   ]
  },
  {
   "cell_type": "code",
   "execution_count": 5,
   "metadata": {},
   "outputs": [],
   "source": [
    "import pandas as pd\n",
    "\n",
    "#open xslx or csv file\n",
    "open('h08.xlsx')\n",
    "file2=pd.read_excel('h08.xlsx')\n",
    "nf2=file2.dropna()\n",
    "nf2=nf2.drop(nf2.index[53:114])\n",
    "# print(nf2)\n",
    "nf2=nf2.sort_values(by=['Table with row headers in column A and column headers in rows 8 through 9 and 63 through 64'])\n",
    "nf2=nf2.drop(nf2.index[43:45])\n",
    "\n",
    "df=pd.concat([nf2,file1],axis=1)\n",
    "nf2.to_csv(\"h08.csv\")"
   ]
  },
  {
   "cell_type": "code",
   "execution_count": null,
   "metadata": {},
   "outputs": [],
   "source": [
    "import pandas as pd\n",
    "import requests\n",
    "from bs4 import BeautifulSoup as soup\n",
    "\n",
    "file1=pd.read_csv('AvgTempByState.csv')\n",
    "file2=pd.read_csv('evreg.csv')\n",
    "file3=pd.read_csv('h08.csv')\n",
    "df1=pd.concat([file1,file2,file3],axis=1)\n",
    "df1.to_excel(\"DataFrame.xlsx\")\n",
    "df1"
   ]
  }
 ],
 "metadata": {
  "kernelspec": {
   "display_name": "Python 3",
   "language": "python",
   "name": "python3"
  },
  "language_info": {
   "codemirror_mode": {
    "name": "ipython",
    "version": 3
   },
   "file_extension": ".py",
   "mimetype": "text/x-python",
   "name": "python",
   "nbconvert_exporter": "python",
   "pygments_lexer": "ipython3",
   "version": "3.11.5"
  },
  "orig_nbformat": 4
 },
 "nbformat": 4,
 "nbformat_minor": 2
}
