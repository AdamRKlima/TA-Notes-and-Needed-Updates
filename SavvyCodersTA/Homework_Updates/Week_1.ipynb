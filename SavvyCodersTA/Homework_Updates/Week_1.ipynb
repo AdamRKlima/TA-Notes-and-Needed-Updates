{
 "cells": [
  {
   "cell_type": "markdown",
   "metadata": {},
   "source": [
    "# Mural boards completed with the question, definition of audience, needed data sets, found datasets, what you like about each dataset, and pain points sections filled out\n",
    "\n",
    "### Git & GitHub Homework:\n",
    "\n",
    "# - Create 3 repos online -- `Homework`, `Activities`, `Capstone`\n",
    "# - Clone these 3 repos down to you local machine inside of your `savvycoders` folder\n",
    "\n",
    "\n",
    "# - In your homework repo online on GitHub, click the Green Button that says `Add a README`\n",
    "# - Delete all of the text currently populating the page\n",
    "# - In the README file write your name in a large font\n",
    "# - Write some sub-heading about yourself in a smaller font\n",
    "# - Create a list that explains your goals for this Data Analytics course\n",
    "# - Add and name a web link in your readme file, for any Python coding article you found interesting\n",
    "# - Add an image that you feel inspires you for this cohort\n",
    "# - Write a short paragraph explaining something about your image\n",
    "\n",
    "# When done commit the new file by clicking the green `Commit new file` button.\n",
    "\n",
    "# Remember to `pull down` these changes to your homework repo on your local machine\n",
    "\n",
    "\n",
    "\n",
    "# - Use  `git add .`, `git commit -m \"message\"`, and `git push` to upload your homework changes to GitHub in the cloud"
   ]
  }
 ],
 "metadata": {
  "language_info": {
   "name": "python"
  }
 },
 "nbformat": 4,
 "nbformat_minor": 2
}
