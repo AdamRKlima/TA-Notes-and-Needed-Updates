{
 "cells": [
  {
   "cell_type": "code",
   "execution_count": 1,
   "metadata": {},
   "outputs": [
    {
     "name": "stdout",
     "output_type": "stream",
     "text": [
      "                        Population\n",
      "State                             \n",
      "Alabama                  4,817,678\n",
      "Alaska                     728,300\n",
      "Arizona                  6,561,516\n",
      "Arkansas                 2,947,036\n",
      "California              38,066,920\n",
      "Colorado                 5,197,580\n",
      "Connecticut              3,592,053\n",
      "Delaware                   917,060\n",
      "District of Columbia       633,736\n",
      "Florida                 19,361,792\n",
      "Georgia                  9,907,756\n",
      "Hawaii                   1,392,704\n",
      "Idaho                    1,599,464\n",
      "Illinois                12,868,747\n",
      "Indiana                  6,542,411\n",
      "Iowa                     3,078,116\n",
      "Kansas                   2,882,946\n",
      "Kentucky                 4,383,272\n",
      "Louisiana                4,601,049\n",
      "Maine                    1,328,535\n",
      "Maryland                 5,887,776\n",
      "Massachusetts            6,657,291\n",
      "Michigan                 9,889,024\n",
      "Minnesota                5,383,661\n",
      "Mississippi              2,984,345\n",
      "Missouri                 6,028,076\n",
      "Montana                  1,006,370\n",
      "Nebraska                 1,855,617\n",
      "Nevada                   2,761,584\n",
      "New Hampshire            1,321,069\n",
      "New Jersey               8,874,374\n",
      "New Mexico               2,080,085\n",
      "New York                19,594,330\n",
      "North Carolina           9,750,405\n",
      "North Dakota               704,925\n",
      "Ohio                    11,560,380\n",
      "Oklahoma                 3,818,851\n",
      "Oregon                   3,900,343\n",
      "Pennsylvania            12,758,729\n",
      "Rhode Island             1,053,252\n",
      "South Carolina           4,727,273\n",
      "South Dakota               834,708\n",
      "Tennessee                6,451,365\n",
      "Texas                   26,092,033\n",
      "Utah                     2,858,111\n",
      "Vermont                    626,358\n",
      "Virginia                 8,185,131\n",
      "Washington               6,899,123\n",
      "West Virginia            1,853,881\n",
      "Wisconsin                5,724,692\n",
      "Wyoming                    575,251\n"
     ]
    }
   ],
   "source": [
    "import pandas as pd\n",
    "\n",
    "\n",
    "# open('E:\\Code\\SavvyCoders\\Activities\\StatePopulations.xlsx')\n",
    "\n",
    "df=pd.read_excel('E:\\Code\\SavvyCoders\\Activities\\StatePopulations.xlsx',index_col=0,sheet_name=\"Sheet1\")\n",
    "print(df)"
   ]
  },
  {
   "cell_type": "code",
   "execution_count": 17,
   "metadata": {},
   "outputs": [
    {
     "name": "stdout",
     "output_type": "stream",
     "text": [
      "1,2,3,4,5,6,7,8,9,10,11,12,13,14,15,\n",
      "\n",
      "1,4,7,10,13,"
     ]
    }
   ],
   "source": [
    "for i in range(1,16):\n",
    "    print(i,end=\",\")\n",
    "print('\\n')\n",
    "for e in range(1,16,3):\n",
    "    print(e,end=',')"
   ]
  }
 ],
 "metadata": {
  "kernelspec": {
   "display_name": "Python 3",
   "language": "python",
   "name": "python3"
  },
  "language_info": {
   "codemirror_mode": {
    "name": "ipython",
    "version": 3
   },
   "file_extension": ".py",
   "mimetype": "text/x-python",
   "name": "python",
   "nbconvert_exporter": "python",
   "pygments_lexer": "ipython3",
   "version": "3.11.3"
  },
  "orig_nbformat": 4
 },
 "nbformat": 4,
 "nbformat_minor": 2
}
